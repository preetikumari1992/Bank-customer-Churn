{
  "nbformat": 4,
  "nbformat_minor": 0,
  "metadata": {
    "colab": {
      "name": "Logistic regression for bank customer churn.ipynb",
      "provenance": [],
      "authorship_tag": "ABX9TyMf366gUL4Q+RFxZaLhQbve",
      "include_colab_link": true
    },
    "kernelspec": {
      "name": "python3",
      "display_name": "Python 3"
    },
    "accelerator": "GPU"
  },
  "cells": [
    {
      "cell_type": "markdown",
      "metadata": {
        "id": "view-in-github",
        "colab_type": "text"
      },
      "source": [
        "<a href=\"https://colab.research.google.com/github/preetikumari1992/Bank-customer-Churn/blob/master/Logistic_regression_for_bank_customer_churn.ipynb\" target=\"_parent\"><img src=\"https://colab.research.google.com/assets/colab-badge.svg\" alt=\"Open In Colab\"/></a>"
      ]
    },
    {
      "cell_type": "code",
      "metadata": {
        "id": "jJaUgSI2sgun",
        "colab_type": "code",
        "colab": {}
      },
      "source": [
        ""
      ],
      "execution_count": null,
      "outputs": []
    },
    {
      "cell_type": "markdown",
      "metadata": {
        "id": "fac-5BShoTZi",
        "colab_type": "text"
      },
      "source": [
        "# **DATA DICTIONARY**\n",
        "\n",
        "There are multiple variables in the dataset which can be divided into 3 categories.\n",
        "\n",
        "# Demographic Information about customers\n",
        "**customer_id**=customer_id\n",
        "\n",
        "**vintage**=vintage of the customer with the bank in number of days\n",
        "\n",
        "**age**=customer age\n",
        "\n",
        "**gender**=gender of customer\n",
        "\n",
        "**dependents**=number of dependents\n",
        "\n",
        "**occupation**=occupation of the customer\n",
        "\n",
        "**city**=city of the customer(anonymised)\n",
        "\n",
        "# Customer Bank Relationship\n",
        "**customer_nw_category**=net worth of customer(3:LOW, 2:Medium, 1:High)\n",
        "\n",
        "**branch_code**=branch code for customer account\n",
        "\n",
        "**days_since_last_transaction**=No. of days since credit in last 1 year\n",
        "\n",
        "# Transactional Information\n",
        "\n",
        "**current_balance**=balance as of today\n",
        "\n",
        "**previous_month_end_balance**=End of month balance of previous month\n",
        "\n",
        "**average_monthly_balance_prevQ**=Average monthly balance in previous quarter\n",
        "\n",
        "**average_monthly_end_prevQ2**=Average monthly balance in previous to previous quarter\n",
        "\n",
        "**current_month_credit**=Total credit amount current month\n",
        "\n",
        "**previous_month_credit**= Total credit amount previous month\n",
        "\n",
        "**current_month_debit**= Total debit amount current month\n",
        "\n",
        "**previous_month_debit**=Total debit amount previous month\n",
        "\n",
        "**current_month_balance**= Total balance of current month\n",
        "\n",
        "**previous_month_balance**= Total balance of previous month\n",
        "\n",
        "**churn**= Average balance of customer falls below minimum balance in the next quarter(1/0)\n",
        "\n"
      ]
    },
    {
      "cell_type": "code",
      "metadata": {
        "id": "KYLAR0FBpQ44",
        "colab_type": "code",
        "colab": {}
      },
      "source": [
        "#Importing libraries\n",
        "\n",
        "import pandas as pd\n",
        "import numpy as np\n",
        "from matplotlib import pyplot as plt\n",
        "%matplotlib inline\n",
        "import warnings\n",
        "warnings.filterwarnings(action='ignore')\n",
        "plt.style.use(['seaborn-bright'])"
      ],
      "execution_count": 48,
      "outputs": []
    },
    {
      "cell_type": "code",
      "metadata": {
        "id": "N5a-fsH7uffh",
        "colab_type": "code",
        "colab": {
          "resources": {
            "http://localhost:8080/nbextensions/google.colab/files.js": {
              "data": "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",
              "ok": true,
              "headers": [
                [
                  "content-type",
                  "application/javascript"
                ]
              ],
              "status": 200,
              "status_text": ""
            }
          },
          "base_uri": "https://localhost:8080/",
          "height": 72
        },
        "outputId": "b275df7f-c65c-4dad-9fae-033a1f8b5429"
      },
      "source": [
        "from google.colab import files\n",
        "uploaded = files.upload()"
      ],
      "execution_count": 49,
      "outputs": [
        {
          "output_type": "display_data",
          "data": {
            "text/html": [
              "\n",
              "     <input type=\"file\" id=\"files-3000c867-8751-4e11-ab41-9ecd44a513a5\" name=\"files[]\" multiple disabled\n",
              "        style=\"border:none\" />\n",
              "     <output id=\"result-3000c867-8751-4e11-ab41-9ecd44a513a5\">\n",
              "      Upload widget is only available when the cell has been executed in the\n",
              "      current browser session. Please rerun this cell to enable.\n",
              "      </output>\n",
              "      <script src=\"/nbextensions/google.colab/files.js\"></script> "
            ],
            "text/plain": [
              "<IPython.core.display.HTML object>"
            ]
          },
          "metadata": {
            "tags": []
          }
        },
        {
          "output_type": "stream",
          "text": [
            "Saving churn_prediction.csv to churn_prediction (1).csv\n"
          ],
          "name": "stdout"
        }
      ]
    },
    {
      "cell_type": "code",
      "metadata": {
        "id": "MRZBDMpJwc9k",
        "colab_type": "code",
        "colab": {}
      },
      "source": [
        "import io\n",
        "df = pd.read_csv(io.BytesIO(uploaded['churn_prediction.csv']))\n"
      ],
      "execution_count": 50,
      "outputs": []
    },
    {
      "cell_type": "code",
      "metadata": {
        "id": "CBC-qn1_xMTO",
        "colab_type": "code",
        "colab": {
          "base_uri": "https://localhost:8080/",
          "height": 224
        },
        "outputId": "981f7bd9-5f09-47e3-8eec-e61c25926875"
      },
      "source": [
        "df.head()"
      ],
      "execution_count": 51,
      "outputs": [
        {
          "output_type": "execute_result",
          "data": {
            "text/html": [
              "<div>\n",
              "<style scoped>\n",
              "    .dataframe tbody tr th:only-of-type {\n",
              "        vertical-align: middle;\n",
              "    }\n",
              "\n",
              "    .dataframe tbody tr th {\n",
              "        vertical-align: top;\n",
              "    }\n",
              "\n",
              "    .dataframe thead th {\n",
              "        text-align: right;\n",
              "    }\n",
              "</style>\n",
              "<table border=\"1\" class=\"dataframe\">\n",
              "  <thead>\n",
              "    <tr style=\"text-align: right;\">\n",
              "      <th></th>\n",
              "      <th>customer_id</th>\n",
              "      <th>vintage</th>\n",
              "      <th>age</th>\n",
              "      <th>gender</th>\n",
              "      <th>dependents</th>\n",
              "      <th>occupation</th>\n",
              "      <th>city</th>\n",
              "      <th>customer_nw_category</th>\n",
              "      <th>branch_code</th>\n",
              "      <th>days_since_last_transaction</th>\n",
              "      <th>current_balance</th>\n",
              "      <th>previous_month_end_balance</th>\n",
              "      <th>average_monthly_balance_prevQ</th>\n",
              "      <th>average_monthly_balance_prevQ2</th>\n",
              "      <th>current_month_credit</th>\n",
              "      <th>previous_month_credit</th>\n",
              "      <th>current_month_debit</th>\n",
              "      <th>previous_month_debit</th>\n",
              "      <th>current_month_balance</th>\n",
              "      <th>previous_month_balance</th>\n",
              "      <th>churn</th>\n",
              "    </tr>\n",
              "  </thead>\n",
              "  <tbody>\n",
              "    <tr>\n",
              "      <th>0</th>\n",
              "      <td>1</td>\n",
              "      <td>3135</td>\n",
              "      <td>66</td>\n",
              "      <td>0</td>\n",
              "      <td>0.0</td>\n",
              "      <td>0</td>\n",
              "      <td>187.0</td>\n",
              "      <td>2</td>\n",
              "      <td>755</td>\n",
              "      <td>224.0</td>\n",
              "      <td>1458.71</td>\n",
              "      <td>1458.71</td>\n",
              "      <td>1458.71</td>\n",
              "      <td>1449.07</td>\n",
              "      <td>0.20</td>\n",
              "      <td>0.20</td>\n",
              "      <td>0.20</td>\n",
              "      <td>0.20</td>\n",
              "      <td>1458.71</td>\n",
              "      <td>1458.71</td>\n",
              "      <td>0</td>\n",
              "    </tr>\n",
              "    <tr>\n",
              "      <th>1</th>\n",
              "      <td>6</td>\n",
              "      <td>2531</td>\n",
              "      <td>42</td>\n",
              "      <td>0</td>\n",
              "      <td>2.0</td>\n",
              "      <td>0</td>\n",
              "      <td>1494.0</td>\n",
              "      <td>3</td>\n",
              "      <td>388</td>\n",
              "      <td>58.0</td>\n",
              "      <td>927.72</td>\n",
              "      <td>1401.72</td>\n",
              "      <td>1643.31</td>\n",
              "      <td>1871.12</td>\n",
              "      <td>0.33</td>\n",
              "      <td>714.61</td>\n",
              "      <td>588.62</td>\n",
              "      <td>1538.06</td>\n",
              "      <td>1157.15</td>\n",
              "      <td>1677.16</td>\n",
              "      <td>1</td>\n",
              "    </tr>\n",
              "    <tr>\n",
              "      <th>2</th>\n",
              "      <td>7</td>\n",
              "      <td>263</td>\n",
              "      <td>42</td>\n",
              "      <td>1</td>\n",
              "      <td>0.0</td>\n",
              "      <td>0</td>\n",
              "      <td>1096.0</td>\n",
              "      <td>2</td>\n",
              "      <td>1666</td>\n",
              "      <td>60.0</td>\n",
              "      <td>15202.20</td>\n",
              "      <td>16059.34</td>\n",
              "      <td>15211.29</td>\n",
              "      <td>13798.82</td>\n",
              "      <td>0.36</td>\n",
              "      <td>0.36</td>\n",
              "      <td>857.50</td>\n",
              "      <td>286.07</td>\n",
              "      <td>15719.44</td>\n",
              "      <td>15349.75</td>\n",
              "      <td>0</td>\n",
              "    </tr>\n",
              "    <tr>\n",
              "      <th>3</th>\n",
              "      <td>8</td>\n",
              "      <td>5922</td>\n",
              "      <td>72</td>\n",
              "      <td>0</td>\n",
              "      <td>0.0</td>\n",
              "      <td>1</td>\n",
              "      <td>1020.0</td>\n",
              "      <td>1</td>\n",
              "      <td>1</td>\n",
              "      <td>98.0</td>\n",
              "      <td>7006.93</td>\n",
              "      <td>7714.19</td>\n",
              "      <td>7859.74</td>\n",
              "      <td>11232.37</td>\n",
              "      <td>0.64</td>\n",
              "      <td>0.64</td>\n",
              "      <td>1299.64</td>\n",
              "      <td>439.26</td>\n",
              "      <td>7076.06</td>\n",
              "      <td>7755.98</td>\n",
              "      <td>0</td>\n",
              "    </tr>\n",
              "    <tr>\n",
              "      <th>4</th>\n",
              "      <td>9</td>\n",
              "      <td>1145</td>\n",
              "      <td>46</td>\n",
              "      <td>0</td>\n",
              "      <td>0.0</td>\n",
              "      <td>0</td>\n",
              "      <td>623.0</td>\n",
              "      <td>2</td>\n",
              "      <td>317</td>\n",
              "      <td>172.0</td>\n",
              "      <td>10096.58</td>\n",
              "      <td>8519.53</td>\n",
              "      <td>6511.82</td>\n",
              "      <td>16314.17</td>\n",
              "      <td>0.27</td>\n",
              "      <td>0.27</td>\n",
              "      <td>443.13</td>\n",
              "      <td>5688.44</td>\n",
              "      <td>8563.84</td>\n",
              "      <td>5317.04</td>\n",
              "      <td>0</td>\n",
              "    </tr>\n",
              "  </tbody>\n",
              "</table>\n",
              "</div>"
            ],
            "text/plain": [
              "   customer_id  vintage  ...  previous_month_balance  churn\n",
              "0            1     3135  ...                 1458.71      0\n",
              "1            6     2531  ...                 1677.16      1\n",
              "2            7      263  ...                15349.75      0\n",
              "3            8     5922  ...                 7755.98      0\n",
              "4            9     1145  ...                 5317.04      0\n",
              "\n",
              "[5 rows x 21 columns]"
            ]
          },
          "metadata": {
            "tags": []
          },
          "execution_count": 51
        }
      ]
    },
    {
      "cell_type": "code",
      "metadata": {
        "id": "XW-1HH4jxOYe",
        "colab_type": "code",
        "colab": {
          "base_uri": "https://localhost:8080/",
          "height": 493
        },
        "outputId": "eabe9e3d-eb38-4f40-88bb-85fa2eb15117"
      },
      "source": [
        "df.info()"
      ],
      "execution_count": 52,
      "outputs": [
        {
          "output_type": "stream",
          "text": [
            "<class 'pandas.core.frame.DataFrame'>\n",
            "RangeIndex: 22067 entries, 0 to 22066\n",
            "Data columns (total 21 columns):\n",
            " #   Column                          Non-Null Count  Dtype  \n",
            "---  ------                          --------------  -----  \n",
            " 0   customer_id                     22067 non-null  int64  \n",
            " 1   vintage                         22067 non-null  int64  \n",
            " 2   age                             22067 non-null  int64  \n",
            " 3   gender                          22067 non-null  int64  \n",
            " 4   dependents                      22067 non-null  float64\n",
            " 5   occupation                      22067 non-null  int64  \n",
            " 6   city                            22067 non-null  float64\n",
            " 7   customer_nw_category            22067 non-null  int64  \n",
            " 8   branch_code                     22067 non-null  int64  \n",
            " 9   days_since_last_transaction     22067 non-null  float64\n",
            " 10  current_balance                 22067 non-null  float64\n",
            " 11  previous_month_end_balance      22067 non-null  float64\n",
            " 12  average_monthly_balance_prevQ   22067 non-null  float64\n",
            " 13  average_monthly_balance_prevQ2  22067 non-null  float64\n",
            " 14  current_month_credit            22067 non-null  float64\n",
            " 15  previous_month_credit           22067 non-null  float64\n",
            " 16  current_month_debit             22067 non-null  float64\n",
            " 17  previous_month_debit            22067 non-null  float64\n",
            " 18  current_month_balance           22067 non-null  float64\n",
            " 19  previous_month_balance          22067 non-null  float64\n",
            " 20  churn                           22067 non-null  int64  \n",
            "dtypes: float64(13), int64(8)\n",
            "memory usage: 3.5 MB\n"
          ],
          "name": "stdout"
        }
      ]
    },
    {
      "cell_type": "code",
      "metadata": {
        "id": "oZQ7e6EiyJe7",
        "colab_type": "code",
        "colab": {
          "base_uri": "https://localhost:8080/",
          "height": 34
        },
        "outputId": "74f7d095-2a57-459d-ce80-b2564f9850a5"
      },
      "source": [
        "df.shape"
      ],
      "execution_count": 53,
      "outputs": [
        {
          "output_type": "execute_result",
          "data": {
            "text/plain": [
              "(22067, 21)"
            ]
          },
          "metadata": {
            "tags": []
          },
          "execution_count": 53
        }
      ]
    },
    {
      "cell_type": "code",
      "metadata": {
        "id": "VGjAVt1TyO2x",
        "colab_type": "code",
        "colab": {
          "base_uri": "https://localhost:8080/",
          "height": 317
        },
        "outputId": "19d8675d-0fa5-4814-bed1-331cf1d3d933"
      },
      "source": [
        "df.describe()"
      ],
      "execution_count": 54,
      "outputs": [
        {
          "output_type": "execute_result",
          "data": {
            "text/html": [
              "<div>\n",
              "<style scoped>\n",
              "    .dataframe tbody tr th:only-of-type {\n",
              "        vertical-align: middle;\n",
              "    }\n",
              "\n",
              "    .dataframe tbody tr th {\n",
              "        vertical-align: top;\n",
              "    }\n",
              "\n",
              "    .dataframe thead th {\n",
              "        text-align: right;\n",
              "    }\n",
              "</style>\n",
              "<table border=\"1\" class=\"dataframe\">\n",
              "  <thead>\n",
              "    <tr style=\"text-align: right;\">\n",
              "      <th></th>\n",
              "      <th>customer_id</th>\n",
              "      <th>vintage</th>\n",
              "      <th>age</th>\n",
              "      <th>gender</th>\n",
              "      <th>dependents</th>\n",
              "      <th>occupation</th>\n",
              "      <th>city</th>\n",
              "      <th>customer_nw_category</th>\n",
              "      <th>branch_code</th>\n",
              "      <th>days_since_last_transaction</th>\n",
              "      <th>current_balance</th>\n",
              "      <th>previous_month_end_balance</th>\n",
              "      <th>average_monthly_balance_prevQ</th>\n",
              "      <th>average_monthly_balance_prevQ2</th>\n",
              "      <th>current_month_credit</th>\n",
              "      <th>previous_month_credit</th>\n",
              "      <th>current_month_debit</th>\n",
              "      <th>previous_month_debit</th>\n",
              "      <th>current_month_balance</th>\n",
              "      <th>previous_month_balance</th>\n",
              "      <th>churn</th>\n",
              "    </tr>\n",
              "  </thead>\n",
              "  <tbody>\n",
              "    <tr>\n",
              "      <th>count</th>\n",
              "      <td>22067.000000</td>\n",
              "      <td>22067.000000</td>\n",
              "      <td>22067.000000</td>\n",
              "      <td>22067.000000</td>\n",
              "      <td>22067.000000</td>\n",
              "      <td>22067.000000</td>\n",
              "      <td>22067.000000</td>\n",
              "      <td>22067.000000</td>\n",
              "      <td>22067.000000</td>\n",
              "      <td>22067.000000</td>\n",
              "      <td>2.206700e+04</td>\n",
              "      <td>2.206700e+04</td>\n",
              "      <td>2.206700e+04</td>\n",
              "      <td>22067.000000</td>\n",
              "      <td>2.206700e+04</td>\n",
              "      <td>2.206700e+04</td>\n",
              "      <td>2.206700e+04</td>\n",
              "      <td>2.206700e+04</td>\n",
              "      <td>2.206700e+04</td>\n",
              "      <td>2.206700e+04</td>\n",
              "      <td>22067.000000</td>\n",
              "    </tr>\n",
              "    <tr>\n",
              "      <th>mean</th>\n",
              "      <td>15115.161372</td>\n",
              "      <td>2547.069334</td>\n",
              "      <td>47.931345</td>\n",
              "      <td>0.391807</td>\n",
              "      <td>0.377487</td>\n",
              "      <td>0.772420</td>\n",
              "      <td>800.318575</td>\n",
              "      <td>2.211991</td>\n",
              "      <td>874.440975</td>\n",
              "      <td>66.934790</td>\n",
              "      <td>7.132589e+03</td>\n",
              "      <td>7.222013e+03</td>\n",
              "      <td>7.181977e+03</td>\n",
              "      <td>6694.966494</td>\n",
              "      <td>3.943065e+03</td>\n",
              "      <td>3.781366e+03</td>\n",
              "      <td>4.070565e+03</td>\n",
              "      <td>3.720333e+03</td>\n",
              "      <td>7.165418e+03</td>\n",
              "      <td>7.182148e+03</td>\n",
              "      <td>0.193683</td>\n",
              "    </tr>\n",
              "    <tr>\n",
              "      <th>std</th>\n",
              "      <td>8737.384035</td>\n",
              "      <td>1598.675520</td>\n",
              "      <td>16.393352</td>\n",
              "      <td>0.488165</td>\n",
              "      <td>1.044629</td>\n",
              "      <td>1.033849</td>\n",
              "      <td>431.454448</td>\n",
              "      <td>0.669556</td>\n",
              "      <td>904.244526</td>\n",
              "      <td>84.133427</td>\n",
              "      <td>2.026846e+04</td>\n",
              "      <td>2.105071e+04</td>\n",
              "      <td>1.927121e+04</td>\n",
              "      <td>17101.802052</td>\n",
              "      <td>8.661750e+04</td>\n",
              "      <td>3.254151e+04</td>\n",
              "      <td>5.726446e+04</td>\n",
              "      <td>2.517514e+04</td>\n",
              "      <td>1.959007e+04</td>\n",
              "      <td>2.097682e+04</td>\n",
              "      <td>0.395192</td>\n",
              "    </tr>\n",
              "    <tr>\n",
              "      <th>min</th>\n",
              "      <td>1.000000</td>\n",
              "      <td>180.000000</td>\n",
              "      <td>1.000000</td>\n",
              "      <td>0.000000</td>\n",
              "      <td>0.000000</td>\n",
              "      <td>0.000000</td>\n",
              "      <td>0.000000</td>\n",
              "      <td>1.000000</td>\n",
              "      <td>1.000000</td>\n",
              "      <td>0.000000</td>\n",
              "      <td>-5.503960e+03</td>\n",
              "      <td>-3.145380e+03</td>\n",
              "      <td>1.428690e+03</td>\n",
              "      <td>-16506.100000</td>\n",
              "      <td>1.000000e-02</td>\n",
              "      <td>1.000000e-02</td>\n",
              "      <td>1.000000e-02</td>\n",
              "      <td>1.000000e-02</td>\n",
              "      <td>-3.374180e+03</td>\n",
              "      <td>-5.171920e+03</td>\n",
              "      <td>0.000000</td>\n",
              "    </tr>\n",
              "    <tr>\n",
              "      <th>25%</th>\n",
              "      <td>7522.500000</td>\n",
              "      <td>1321.000000</td>\n",
              "      <td>36.000000</td>\n",
              "      <td>0.000000</td>\n",
              "      <td>0.000000</td>\n",
              "      <td>0.000000</td>\n",
              "      <td>409.000000</td>\n",
              "      <td>2.000000</td>\n",
              "      <td>159.000000</td>\n",
              "      <td>11.000000</td>\n",
              "      <td>1.784445e+03</td>\n",
              "      <td>1.906485e+03</td>\n",
              "      <td>2.209835e+03</td>\n",
              "      <td>1817.980000</td>\n",
              "      <td>3.600000e-01</td>\n",
              "      <td>3.700000e-01</td>\n",
              "      <td>4.700000e-01</td>\n",
              "      <td>4.900000e-01</td>\n",
              "      <td>2.029970e+03</td>\n",
              "      <td>2.090665e+03</td>\n",
              "      <td>0.000000</td>\n",
              "    </tr>\n",
              "    <tr>\n",
              "      <th>50%</th>\n",
              "      <td>15120.000000</td>\n",
              "      <td>2202.000000</td>\n",
              "      <td>46.000000</td>\n",
              "      <td>0.000000</td>\n",
              "      <td>0.000000</td>\n",
              "      <td>0.000000</td>\n",
              "      <td>848.000000</td>\n",
              "      <td>2.000000</td>\n",
              "      <td>531.000000</td>\n",
              "      <td>28.000000</td>\n",
              "      <td>3.335440e+03</td>\n",
              "      <td>3.426740e+03</td>\n",
              "      <td>3.592880e+03</td>\n",
              "      <td>3380.690000</td>\n",
              "      <td>1.130000e+00</td>\n",
              "      <td>6.440000e+00</td>\n",
              "      <td>2.147300e+02</td>\n",
              "      <td>2.285000e+02</td>\n",
              "      <td>3.501740e+03</td>\n",
              "      <td>3.508160e+03</td>\n",
              "      <td>0.000000</td>\n",
              "    </tr>\n",
              "    <tr>\n",
              "      <th>75%</th>\n",
              "      <td>22685.500000</td>\n",
              "      <td>3370.000000</td>\n",
              "      <td>60.000000</td>\n",
              "      <td>1.000000</td>\n",
              "      <td>0.000000</td>\n",
              "      <td>2.000000</td>\n",
              "      <td>1096.000000</td>\n",
              "      <td>3.000000</td>\n",
              "      <td>1374.000000</td>\n",
              "      <td>90.000000</td>\n",
              "      <td>6.801310e+03</td>\n",
              "      <td>6.826095e+03</td>\n",
              "      <td>6.819235e+03</td>\n",
              "      <td>6628.750000</td>\n",
              "      <td>9.937800e+02</td>\n",
              "      <td>1.129115e+03</td>\n",
              "      <td>1.579220e+03</td>\n",
              "      <td>1.643175e+03</td>\n",
              "      <td>6.858385e+03</td>\n",
              "      <td>6.779355e+03</td>\n",
              "      <td>0.000000</td>\n",
              "    </tr>\n",
              "    <tr>\n",
              "      <th>max</th>\n",
              "      <td>30301.000000</td>\n",
              "      <td>11353.000000</td>\n",
              "      <td>90.000000</td>\n",
              "      <td>1.000000</td>\n",
              "      <td>52.000000</td>\n",
              "      <td>4.000000</td>\n",
              "      <td>1649.000000</td>\n",
              "      <td>3.000000</td>\n",
              "      <td>4782.000000</td>\n",
              "      <td>365.000000</td>\n",
              "      <td>1.076091e+06</td>\n",
              "      <td>1.001124e+06</td>\n",
              "      <td>1.192704e+06</td>\n",
              "      <td>856596.510000</td>\n",
              "      <td>1.226985e+07</td>\n",
              "      <td>2.361808e+06</td>\n",
              "      <td>7.637857e+06</td>\n",
              "      <td>1.414168e+06</td>\n",
              "      <td>1.074625e+06</td>\n",
              "      <td>1.326487e+06</td>\n",
              "      <td>1.000000</td>\n",
              "    </tr>\n",
              "  </tbody>\n",
              "</table>\n",
              "</div>"
            ],
            "text/plain": [
              "        customer_id       vintage  ...  previous_month_balance         churn\n",
              "count  22067.000000  22067.000000  ...            2.206700e+04  22067.000000\n",
              "mean   15115.161372   2547.069334  ...            7.182148e+03      0.193683\n",
              "std     8737.384035   1598.675520  ...            2.097682e+04      0.395192\n",
              "min        1.000000    180.000000  ...           -5.171920e+03      0.000000\n",
              "25%     7522.500000   1321.000000  ...            2.090665e+03      0.000000\n",
              "50%    15120.000000   2202.000000  ...            3.508160e+03      0.000000\n",
              "75%    22685.500000   3370.000000  ...            6.779355e+03      0.000000\n",
              "max    30301.000000  11353.000000  ...            1.326487e+06      1.000000\n",
              "\n",
              "[8 rows x 21 columns]"
            ]
          },
          "metadata": {
            "tags": []
          },
          "execution_count": 54
        }
      ]
    },
    {
      "cell_type": "code",
      "metadata": {
        "id": "qfKwbm6yyRZW",
        "colab_type": "code",
        "colab": {
          "base_uri": "https://localhost:8080/",
          "height": 493
        },
        "outputId": "b0cb1d60-ffa0-4f4a-e381-36f11e7b3a8f"
      },
      "source": [
        "#dropping missing values\n",
        "\n",
        "df=df.dropna()\n",
        "df.info()"
      ],
      "execution_count": 55,
      "outputs": [
        {
          "output_type": "stream",
          "text": [
            "<class 'pandas.core.frame.DataFrame'>\n",
            "Int64Index: 22067 entries, 0 to 22066\n",
            "Data columns (total 21 columns):\n",
            " #   Column                          Non-Null Count  Dtype  \n",
            "---  ------                          --------------  -----  \n",
            " 0   customer_id                     22067 non-null  int64  \n",
            " 1   vintage                         22067 non-null  int64  \n",
            " 2   age                             22067 non-null  int64  \n",
            " 3   gender                          22067 non-null  int64  \n",
            " 4   dependents                      22067 non-null  float64\n",
            " 5   occupation                      22067 non-null  int64  \n",
            " 6   city                            22067 non-null  float64\n",
            " 7   customer_nw_category            22067 non-null  int64  \n",
            " 8   branch_code                     22067 non-null  int64  \n",
            " 9   days_since_last_transaction     22067 non-null  float64\n",
            " 10  current_balance                 22067 non-null  float64\n",
            " 11  previous_month_end_balance      22067 non-null  float64\n",
            " 12  average_monthly_balance_prevQ   22067 non-null  float64\n",
            " 13  average_monthly_balance_prevQ2  22067 non-null  float64\n",
            " 14  current_month_credit            22067 non-null  float64\n",
            " 15  previous_month_credit           22067 non-null  float64\n",
            " 16  current_month_debit             22067 non-null  float64\n",
            " 17  previous_month_debit            22067 non-null  float64\n",
            " 18  current_month_balance           22067 non-null  float64\n",
            " 19  previous_month_balance          22067 non-null  float64\n",
            " 20  churn                           22067 non-null  int64  \n",
            "dtypes: float64(13), int64(8)\n",
            "memory usage: 3.7 MB\n"
          ],
          "name": "stdout"
        }
      ]
    },
    {
      "cell_type": "code",
      "metadata": {
        "id": "xwaNB1xY0o5x",
        "colab_type": "code",
        "colab": {
          "base_uri": "https://localhost:8080/",
          "height": 68
        },
        "outputId": "e0020ab2-f291-45c6-a975-87c7bdf4e689"
      },
      "source": [
        "#Checking target variable distribution is whether balanced or imbalanced type.\n",
        "\n",
        "df['churn'].value_counts()/len(df)"
      ],
      "execution_count": 56,
      "outputs": [
        {
          "output_type": "execute_result",
          "data": {
            "text/plain": [
              "0    0.806317\n",
              "1    0.193683\n",
              "Name: churn, dtype: float64"
            ]
          },
          "metadata": {
            "tags": []
          },
          "execution_count": 56
        }
      ]
    },
    {
      "cell_type": "markdown",
      "metadata": {
        "id": "tmCJX31l1Z6E",
        "colab_type": "text"
      },
      "source": [
        "Target variable classes are imbalanced (80:20)"
      ]
    },
    {
      "cell_type": "code",
      "metadata": {
        "id": "9JnHV9Cw1kMc",
        "colab_type": "code",
        "colab": {}
      },
      "source": [
        "#Separating Dependent & Independent variables\n",
        "X=df.drop(columns=['churn', 'customer_id'])\n",
        "Y=df['churn']"
      ],
      "execution_count": 57,
      "outputs": []
    },
    {
      "cell_type": "code",
      "metadata": {
        "id": "9s58s09u2nL_",
        "colab_type": "code",
        "colab": {}
      },
      "source": [
        "#Feature Scaling\n",
        "from sklearn.preprocessing import StandardScaler\n",
        "scaler=StandardScaler()\n",
        "scaled_X=scaler.fit_transform(X)"
      ],
      "execution_count": 58,
      "outputs": []
    },
    {
      "cell_type": "code",
      "metadata": {
        "id": "UHZnT5e121B-",
        "colab_type": "code",
        "colab": {
          "base_uri": "https://localhost:8080/",
          "height": 34
        },
        "outputId": "29c63dac-6890-41bb-f157-716b76b9befa"
      },
      "source": [
        "#Train test split\n",
        "from sklearn.model_selection import train_test_split as tts\n",
        "X_train, X_test, Y_train, Y_test=tts(scaled_X, Y, train_size=0.80)\n",
        "X_train.shape, X_test.shape, Y_train.shape, Y_test.shape"
      ],
      "execution_count": 59,
      "outputs": [
        {
          "output_type": "execute_result",
          "data": {
            "text/plain": [
              "((17653, 19), (4414, 19), (17653,), (4414,))"
            ]
          },
          "metadata": {
            "tags": []
          },
          "execution_count": 59
        }
      ]
    },
    {
      "cell_type": "markdown",
      "metadata": {
        "id": "bR-YXhzB4WXK",
        "colab_type": "text"
      },
      "source": [
        "## **Model building/prediction & odds ratio**"
      ]
    },
    {
      "cell_type": "code",
      "metadata": {
        "id": "TyPT1KnX4egZ",
        "colab_type": "code",
        "colab": {}
      },
      "source": [
        "#Building Logistic Regression\n",
        "\n",
        "from sklearn.linear_model import LogisticRegression as LR\n",
        "classifier=LR(class_weight='balanced')"
      ],
      "execution_count": 60,
      "outputs": []
    },
    {
      "cell_type": "code",
      "metadata": {
        "id": "bKGjn8TPAjuH",
        "colab_type": "code",
        "colab": {}
      },
      "source": [
        "#Fitting trained data and making predictions \n",
        "#Looking for 2 results: predicted values & predicted probabilities\n",
        "\n",
        "classifier.fit(X_train, Y_train)\n",
        "predicted_values=classifier.predict(X_test)\n",
        "predicted_probabilities=classifier.predict_proba(X_test)"
      ],
      "execution_count": 61,
      "outputs": []
    },
    {
      "cell_type": "code",
      "metadata": {
        "id": "Z4WqWcCbBBDz",
        "colab_type": "code",
        "colab": {
          "base_uri": "https://localhost:8080/",
          "height": 34
        },
        "outputId": "4a9b0d32-89f5-4600-f1c5-8bc66e0f4b55"
      },
      "source": [
        "predicted_values"
      ],
      "execution_count": 62,
      "outputs": [
        {
          "output_type": "execute_result",
          "data": {
            "text/plain": [
              "array([0, 0, 0, ..., 0, 1, 0])"
            ]
          },
          "metadata": {
            "tags": []
          },
          "execution_count": 62
        }
      ]
    },
    {
      "cell_type": "code",
      "metadata": {
        "id": "OkMKeCEfBD7g",
        "colab_type": "code",
        "colab": {
          "base_uri": "https://localhost:8080/",
          "height": 136
        },
        "outputId": "533c0f81-43bd-4090-c061-e715e81b36a7"
      },
      "source": [
        "predicted_probabilities, predicted_probabilities.shape"
      ],
      "execution_count": 63,
      "outputs": [
        {
          "output_type": "execute_result",
          "data": {
            "text/plain": [
              "(array([[0.74658757, 0.25341243],\n",
              "        [0.50986942, 0.49013058],\n",
              "        [0.5752713 , 0.4247287 ],\n",
              "        ...,\n",
              "        [0.62198438, 0.37801562],\n",
              "        [0.4623675 , 0.5376325 ],\n",
              "        [0.51416285, 0.48583715]]), (4414, 2))"
            ]
          },
          "metadata": {
            "tags": []
          },
          "execution_count": 63
        }
      ]
    },
    {
      "cell_type": "markdown",
      "metadata": {
        "id": "geANhblqBM8w",
        "colab_type": "text"
      },
      "source": [
        "Column 1 represents probability of class-0\n",
        "\n",
        "Column 2 represents probability of class-1"
      ]
    },
    {
      "cell_type": "markdown",
      "metadata": {
        "id": "VJfGRqiaHYyB",
        "colab_type": "text"
      },
      "source": [
        "# **Evaluating** **Logistic** **Regression** **model**"
      ]
    },
    {
      "cell_type": "code",
      "metadata": {
        "id": "ebSumW5GJ4EG",
        "colab_type": "code",
        "colab": {
          "base_uri": "https://localhost:8080/",
          "height": 34
        },
        "outputId": "52da86d5-8a27-4fa3-dff8-74aefd869538"
      },
      "source": [
        "#Calculating Accuracy matrix\n",
        "classifier.score(X_test, Y_test)"
      ],
      "execution_count": 64,
      "outputs": [
        {
          "output_type": "execute_result",
          "data": {
            "text/plain": [
              "0.7299501585863163"
            ]
          },
          "metadata": {
            "tags": []
          },
          "execution_count": 64
        }
      ]
    },
    {
      "cell_type": "markdown",
      "metadata": {
        "id": "dH_IayDjKMfi",
        "colab_type": "text"
      },
      "source": [
        "It is a fair value which tells us accuracy of our model, but our target variable is Imbalanced data hence, it is not correct to calculate accuracy matrix."
      ]
    },
    {
      "cell_type": "code",
      "metadata": {
        "id": "e9EVJSS0KZ_c",
        "colab_type": "code",
        "colab": {
          "base_uri": "https://localhost:8080/",
          "height": 34
        },
        "outputId": "3afa4f81-ee35-490e-d0bc-d5a2fb84dec4"
      },
      "source": [
        "#Calculating Precision score\n",
        "from sklearn.metrics import precision_score\n",
        "Precision=precision_score(Y_test, predicted_values)\n",
        "Precision"
      ],
      "execution_count": 65,
      "outputs": [
        {
          "output_type": "execute_result",
          "data": {
            "text/plain": [
              "0.3835616438356164"
            ]
          },
          "metadata": {
            "tags": []
          },
          "execution_count": 65
        }
      ]
    },
    {
      "cell_type": "markdown",
      "metadata": {
        "id": "UhxyWWUPK_LN",
        "colab_type": "text"
      },
      "source": [
        "It tells us 37% of predicted values have been predicted False Positive."
      ]
    },
    {
      "cell_type": "code",
      "metadata": {
        "id": "oyc3MEJ4LJcY",
        "colab_type": "code",
        "colab": {
          "base_uri": "https://localhost:8080/",
          "height": 34
        },
        "outputId": "ae882cb0-ac7a-4dab-f663-8aad89e32785"
      },
      "source": [
        "#Calculating Recall matrix\n",
        "from sklearn.metrics import recall_score\n",
        "Recall=recall_score(Y_test, predicted_values)\n",
        "Recall"
      ],
      "execution_count": 66,
      "outputs": [
        {
          "output_type": "execute_result",
          "data": {
            "text/plain": [
              "0.6572769953051644"
            ]
          },
          "metadata": {
            "tags": []
          },
          "execution_count": 66
        }
      ]
    },
    {
      "cell_type": "markdown",
      "metadata": {
        "id": "_46kQsodMaSJ",
        "colab_type": "text"
      },
      "source": [
        "It tells us that only 63% of predicted values have been predicted as positives."
      ]
    },
    {
      "cell_type": "code",
      "metadata": {
        "id": "_Tjbl9A7MhL_",
        "colab_type": "code",
        "colab": {
          "base_uri": "https://localhost:8080/",
          "height": 34
        },
        "outputId": "89237804-b3c1-40f0-93f9-b8b5716ad5dd"
      },
      "source": [
        "#TO solve conflict among choosing precision or recall matrix we call for F1 score matrix.\n",
        "#Calculating F! score manually.\n",
        "f1=2/((1/Precision)+(1/Recall))\n",
        "f1"
      ],
      "execution_count": 67,
      "outputs": [
        {
          "output_type": "execute_result",
          "data": {
            "text/plain": [
              "0.4844290657439447"
            ]
          },
          "metadata": {
            "tags": []
          },
          "execution_count": 67
        }
      ]
    },
    {
      "cell_type": "code",
      "metadata": {
        "id": "TvvCMyFQM3UU",
        "colab_type": "code",
        "colab": {
          "base_uri": "https://localhost:8080/",
          "height": 34
        },
        "outputId": "777c83d5-5a36-4a70-bb2b-dd2e8cdda8c9"
      },
      "source": [
        "#Calculating F1 using sklearn library\n",
        "from sklearn.metrics import f1_score\n",
        "F1=f1_score(Y_test, predicted_values)\n",
        "F1"
      ],
      "execution_count": 68,
      "outputs": [
        {
          "output_type": "execute_result",
          "data": {
            "text/plain": [
              "0.48442906574394473"
            ]
          },
          "metadata": {
            "tags": []
          },
          "execution_count": 68
        }
      ]
    },
    {
      "cell_type": "markdown",
      "metadata": {
        "id": "1rmSB8bCO_lR",
        "colab_type": "text"
      },
      "source": [
        "F1 score is same for both methods above. If F1< 0.50 , so our model is far from to be a good model."
      ]
    },
    {
      "cell_type": "code",
      "metadata": {
        "id": "dgTxpJzCPNCA",
        "colab_type": "code",
        "colab": {}
      },
      "source": [
        "#Calculating all matrix at once using Support function.\n",
        "#Support function return metrics w.r.t class 0 & 1\n",
        "from sklearn.metrics import precision_recall_fscore_support as PRF_summary\n",
        "precision, recall, f1, support=PRF_summary(Y_test, predicted_values)"
      ],
      "execution_count": 69,
      "outputs": []
    },
    {
      "cell_type": "code",
      "metadata": {
        "id": "qYmY4Sf5T4NA",
        "colab_type": "code",
        "colab": {
          "base_uri": "https://localhost:8080/",
          "height": 34
        },
        "outputId": "ebb73435-c1cb-4912-ed9c-f6a6c8d362e7"
      },
      "source": [
        "#PRINT\n",
        "precision"
      ],
      "execution_count": 70,
      "outputs": [
        {
          "output_type": "execute_result",
          "data": {
            "text/plain": [
              "array([0.90115098, 0.38356164])"
            ]
          },
          "metadata": {
            "tags": []
          },
          "execution_count": 70
        }
      ]
    },
    {
      "cell_type": "code",
      "metadata": {
        "id": "ebChJ0kuT9jZ",
        "colab_type": "code",
        "colab": {
          "base_uri": "https://localhost:8080/",
          "height": 34
        },
        "outputId": "d708c47a-beb7-46b1-8b81-968bbce8ceef"
      },
      "source": [
        "recall"
      ],
      "execution_count": 71,
      "outputs": [
        {
          "output_type": "execute_result",
          "data": {
            "text/plain": [
              "array([0.74733296, 0.657277  ])"
            ]
          },
          "metadata": {
            "tags": []
          },
          "execution_count": 71
        }
      ]
    },
    {
      "cell_type": "code",
      "metadata": {
        "id": "uvzeA4yyUCOC",
        "colab_type": "code",
        "colab": {
          "base_uri": "https://localhost:8080/",
          "height": 34
        },
        "outputId": "f3db40f8-9c20-4176-d3ea-0e9955fc7bbd"
      },
      "source": [
        "f1"
      ],
      "execution_count": 72,
      "outputs": [
        {
          "output_type": "execute_result",
          "data": {
            "text/plain": [
              "array([0.81706568, 0.48442907])"
            ]
          },
          "metadata": {
            "tags": []
          },
          "execution_count": 72
        }
      ]
    },
    {
      "cell_type": "markdown",
      "metadata": {
        "id": "PD9E6PhfUFMs",
        "colab_type": "text"
      },
      "source": [
        "1st column- prob of class 0\n",
        "\n",
        "2nd column- prob of class 1\n",
        "\n",
        "Support function doesn't give us very intuitive representation."
      ]
    },
    {
      "cell_type": "code",
      "metadata": {
        "id": "uQq33Nz-UR1v",
        "colab_type": "code",
        "colab": {
          "base_uri": "https://localhost:8080/",
          "height": 170
        },
        "outputId": "b30eac0f-21c8-477f-89fc-fa5d59ac322a"
      },
      "source": [
        "#For better representation using a structured function.\n",
        "from sklearn.metrics import classification_report\n",
        "k=classification_report(Y_test, predicted_values)\n",
        "print(k)"
      ],
      "execution_count": 73,
      "outputs": [
        {
          "output_type": "stream",
          "text": [
            "              precision    recall  f1-score   support\n",
            "\n",
            "           0       0.90      0.75      0.82      3562\n",
            "           1       0.38      0.66      0.48       852\n",
            "\n",
            "    accuracy                           0.73      4414\n",
            "   macro avg       0.64      0.70      0.65      4414\n",
            "weighted avg       0.80      0.73      0.75      4414\n",
            "\n"
          ],
          "name": "stdout"
        }
      ]
    },
    {
      "cell_type": "markdown",
      "metadata": {
        "id": "W1adkmiCVcWv",
        "colab_type": "text"
      },
      "source": [
        "# **Precision-Recall Curve for their Trade-Off**"
      ]
    },
    {
      "cell_type": "code",
      "metadata": {
        "id": "rJwQddVmVmwO",
        "colab_type": "code",
        "colab": {
          "base_uri": "https://localhost:8080/",
          "height": 34
        },
        "outputId": "ce7f0c60-6a06-47fe-ee0d-a5f7e55a2f4a"
      },
      "source": [
        "#Gathering Precision/Recall scores for different Thresholds.\n",
        "from sklearn.metrics import precision_recall_curve\n",
        "precision_points, recall_points, threshold_points=precision_recall_curve(Y_test, predicted_probabilities[:,1])\n",
        "precision_points.shape, recall_points.shape, threshold_points.shape"
      ],
      "execution_count": 75,
      "outputs": [
        {
          "output_type": "execute_result",
          "data": {
            "text/plain": [
              "((4412,), (4412,), (4411,))"
            ]
          },
          "metadata": {
            "tags": []
          },
          "execution_count": 75
        }
      ]
    },
    {
      "cell_type": "markdown",
      "metadata": {
        "id": "XGYI33jTYfUE",
        "colab_type": "text"
      },
      "source": [
        "This curve will show every possible threshold values b/w probability 0 & 1."
      ]
    },
    {
      "cell_type": "code",
      "metadata": {
        "id": "ie0NPh2iYq5P",
        "colab_type": "code",
        "colab": {
          "base_uri": "https://localhost:8080/",
          "height": 511
        },
        "outputId": "105cb255-f015-464e-ceaa-1ea72925ad5c"
      },
      "source": [
        "#Plotting curve.\n",
        "plt.figure(figsize=(7,5),dpi=100)\n",
        "plt.plot(threshold_points, precision_points[:-1], color='green', label='Precision')\n",
        "plt.plot(threshold_points, recall_points[:-1], color='orange', label='Recall')\n",
        "plt.title('Precision-Recall Trade-Off', fontsize=20)\n",
        "plt.xlabel('Threshold points', fontsize=15)\n",
        "plt.ylabel('Score', fontsize=15)\n",
        "plt.legend()"
      ],
      "execution_count": 76,
      "outputs": [
        {
          "output_type": "execute_result",
          "data": {
            "text/plain": [
              "<matplotlib.legend.Legend at 0x7f7df19f6588>"
            ]
          },
          "metadata": {
            "tags": []
          },
          "execution_count": 76
        },
        {
          "output_type": "display_data",
          "data": {
            "image/png": "[encoded data removed]",
            "text/plain": [
              "<Figure size 700x500 with 1 Axes>"
            ]
          },
          "metadata": {
            "tags": [],
            "needs_background": "light"
          }
        }
      ]
    },
    {
      "cell_type": "markdown",
      "metadata": {
        "id": "AuFNpjC9bcQq",
        "colab_type": "text"
      },
      "source": [
        "Trade off curve showing as precision increases, recall decreases as well. Our threshold point is intersection point at 0.56 i.e. a great threshold value for our model."
      ]
    },
    {
      "cell_type": "markdown",
      "metadata": {
        "id": "Cmlqwd_Ud5Lp",
        "colab_type": "text"
      },
      "source": [
        "# **AUC-ROC Curve**"
      ]
    },
    {
      "cell_type": "code",
      "metadata": {
        "id": "2b2Gp6j0eAkH",
        "colab_type": "code",
        "colab": {}
      },
      "source": [
        "#plotting auc-roc curve to measure model performance.\n",
        "from sklearn.metrics import roc_curve, roc_auc_score\n",
        "fpr, tpr, threshold=roc_curve(Y_test, predicted_probabilities[:,1])\n"
      ],
      "execution_count": 77,
      "outputs": []
    },
    {
      "cell_type": "code",
      "metadata": {
        "id": "sc1U94jLkCUR",
        "colab_type": "code",
        "colab": {
          "base_uri": "https://localhost:8080/",
          "height": 511
        },
        "outputId": "16b6dc88-efd5-48ea-e116-600c0c50e3a1"
      },
      "source": [
        "#Plotting curve\n",
        "plt.figure(figsize=(7,5), dpi=100)\n",
        "plt.plot(fpr, tpr, color='green')\n",
        "plt.plot([0,1], [0,1], label='baseline', color='red')\n",
        "plt.xlabel('FPR', fontsize=15)\n",
        "plt.ylabel('TPR', fontsize=15)\n",
        "plt.title('AUC-RUC Curve', fontsize=20)\n",
        "plt.show()\n",
        "\n",
        "#Plot area under curve\n",
        "\n",
        "roc_auc_score(Y_test, predicted_probabilities[:,1])"
      ],
      "execution_count": 79,
      "outputs": [
        {
          "output_type": "display_data",
          "data": {
            "image/png": "[encoded data removed]",
            "text/plain": [
              "<Figure size 700x500 with 1 Axes>"
            ]
          },
          "metadata": {
            "tags": [],
            "needs_background": "light"
          }
        },
        {
          "output_type": "execute_result",
          "data": {
            "text/plain": [
              "0.7633730984070246"
            ]
          },
          "metadata": {
            "tags": []
          },
          "execution_count": 79
        }
      ]
    },
    {
      "cell_type": "markdown",
      "metadata": {
        "id": "Yzre8wBTk7lt",
        "colab_type": "text"
      },
      "source": [
        "ROC value 0.76 >0.55(threshold) shows Average results which can be further improve by feature engineering."
      ]
    },
    {
      "cell_type": "markdown",
      "metadata": {
        "id": "R0Dw7L2QlLlZ",
        "colab_type": "text"
      },
      "source": [
        "# **Coeff- Plot**"
      ]
    },
    {
      "cell_type": "code",
      "metadata": {
        "id": "tobXgeiAlRlz",
        "colab_type": "code",
        "colab": {
          "base_uri": "https://localhost:8080/",
          "height": 204
        },
        "outputId": "5b076d10-b495-431e-dbd3-eec2a97e9bd2"
      },
      "source": [
        "#Coeff-plot tell us how the target var of our model is depending upon all independent variables.\n",
        "c=classifier.coef_.reshape(-1)\n",
        "x=X.columns\n",
        "coeff_plot=pd.DataFrame({'coefficients':c,\n",
        "                         'variable':x})\n",
        "\n",
        "#sorting the  values\n",
        "coeff_plot=coeff_plot.sort_values(by='coefficients')\n",
        "coeff_plot.head()"
      ],
      "execution_count": 81,
      "outputs": [
        {
          "output_type": "execute_result",
          "data": {
            "text/html": [
              "<div>\n",
              "<style scoped>\n",
              "    .dataframe tbody tr th:only-of-type {\n",
              "        vertical-align: middle;\n",
              "    }\n",
              "\n",
              "    .dataframe tbody tr th {\n",
              "        vertical-align: top;\n",
              "    }\n",
              "\n",
              "    .dataframe thead th {\n",
              "        text-align: right;\n",
              "    }\n",
              "</style>\n",
              "<table border=\"1\" class=\"dataframe\">\n",
              "  <thead>\n",
              "    <tr style=\"text-align: right;\">\n",
              "      <th></th>\n",
              "      <th>coefficients</th>\n",
              "      <th>variable</th>\n",
              "    </tr>\n",
              "  </thead>\n",
              "  <tbody>\n",
              "    <tr>\n",
              "      <th>9</th>\n",
              "      <td>-1.999611</td>\n",
              "      <td>current_balance</td>\n",
              "    </tr>\n",
              "    <tr>\n",
              "      <th>0</th>\n",
              "      <td>-0.169002</td>\n",
              "      <td>vintage</td>\n",
              "    </tr>\n",
              "    <tr>\n",
              "      <th>14</th>\n",
              "      <td>-0.151003</td>\n",
              "      <td>previous_month_credit</td>\n",
              "    </tr>\n",
              "    <tr>\n",
              "      <th>10</th>\n",
              "      <td>-0.143793</td>\n",
              "      <td>previous_month_end_balance</td>\n",
              "    </tr>\n",
              "    <tr>\n",
              "      <th>8</th>\n",
              "      <td>-0.112023</td>\n",
              "      <td>days_since_last_transaction</td>\n",
              "    </tr>\n",
              "  </tbody>\n",
              "</table>\n",
              "</div>"
            ],
            "text/plain": [
              "    coefficients                     variable\n",
              "9      -1.999611              current_balance\n",
              "0      -0.169002                      vintage\n",
              "14     -0.151003        previous_month_credit\n",
              "10     -0.143793   previous_month_end_balance\n",
              "8      -0.112023  days_since_last_transaction"
            ]
          },
          "metadata": {
            "tags": []
          },
          "execution_count": 81
        }
      ]
    },
    {
      "cell_type": "code",
      "metadata": {
        "id": "LjKv0URslo-p",
        "colab_type": "code",
        "colab": {
          "base_uri": "https://localhost:8080/",
          "height": 697
        },
        "outputId": "dec5b7c5-f8c8-437b-845e-e059bcb03df0"
      },
      "source": [
        "#plotting\n",
        "plt.figure(figsize=(8,6), dpi=120)\n",
        "plt.barh(coeff_plot['variable'], coeff_plot['coefficients'])\n",
        "plt.xlabel('coeff magnitude', fontsize=15)\n",
        "plt.ylabel('variable', fontsize=15)\n",
        "plt.title('Coeff Plot', fontsize=20)"
      ],
      "execution_count": 83,
      "outputs": [
        {
          "output_type": "execute_result",
          "data": {
            "text/plain": [
              "Text(0.5, 1.0, 'Coeff Plot')"
            ]
          },
          "metadata": {
            "tags": []
          },
          "execution_count": 83
        },
        {
          "output_type": "display_data",
          "data": {
            "image/png": "[encoded data removed]",
            "text/plain": [
              "<Figure size 960x720 with 1 Axes>"
            ]
          },
          "metadata": {
            "tags": [],
            "needs_background": "light"
          }
        }
      ]
    },
    {
      "cell_type": "markdown",
      "metadata": {
        "id": "sKbik6srmnlJ",
        "colab_type": "text"
      },
      "source": [
        "# **RESULT**\n",
        "\n",
        "Higher the values of **average_monthly_balance_prevQ, current_month_debit & previous_month_debit, customer is more likely to churn**.\n",
        "\n",
        "\n",
        "Higher the values of **current_balance, customer is less likely to churn**.\n"
      ]
    },
    {
      "cell_type": "code",
      "metadata": {
        "id": "-XVo1EagngjU",
        "colab_type": "code",
        "colab": {}
      },
      "source": [
        ""
      ],
      "execution_count": null,
      "outputs": []
    }
  ]
}